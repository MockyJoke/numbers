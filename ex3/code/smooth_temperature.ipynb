{
 "cells": [
  {
   "cell_type": "code",
   "execution_count": 1,
   "metadata": {
    "collapsed": false
   },
   "outputs": [],
   "source": [
    "import sys\n",
    "import pandas as pd\n",
    "import matplotlib.pyplot as plt\n",
    "from statsmodels.nonparametric.smoothers_lowess import lowess\n",
    "from pykalman import KalmanFilter\n",
    "\n",
    "filename1 = sys.argv[1]\n",
    "filename1 = \"sysinfo.csv\"\n",
    "\n",
    "cpu_data = pd.read_table(filename1, sep=',', parse_dates=[2])"
   ]
  },
  {
   "cell_type": "code",
   "execution_count": 2,
   "metadata": {
    "collapsed": false,
    "scrolled": true
   },
   "outputs": [],
   "source": [
    "plt.figure(figsize=(12, 4))\n",
    "plt.plot(cpu_data['timestamp'], cpu_data['temperature'], 'b.', alpha=1)\n",
    "\n",
    "loess_smoothed = lowess(cpu_data['temperature'], cpu_data.index , frac = 0.05)\n",
    "plt.plot(cpu_data['timestamp'], loess_smoothed[:, 1], 'r-',alpha =1)\n",
    "\n",
    "#plt.show() # easier for testing\n",
    "# plt.savefig('cpu.svg') # for final submission\n",
    "\n",
    "kalman_data = cpu_data[['temperature', 'cpu_percent']]\n",
    "initial_state = kalman_data.iloc[0]\n",
    "observation_stddev = 0.9\n",
    "transition_stddev = 0.2\n",
    "observation_covariance = [[observation_stddev ** 2, 0], [0, 2 ** 2]]\n",
    "transition_covariance = [[transition_stddev ** 2, 0], [0, 80 ** 2]]\n",
    "\n",
    "\n",
    "kf = KalmanFilter(\n",
    "                initial_state_mean=initial_state,\n",
    "                transition_matrices = [[1, 0.125], [0, 1]], \n",
    "                observation_matrices = [[1, 0], [0, 1]],\n",
    "                observation_covariance = observation_covariance,\n",
    "                transition_covariance = transition_covariance)\n",
    "kalman_smoothed, _ = kf.smooth(kalman_data)\n",
    "plt.plot(cpu_data['timestamp'], kalman_smoothed[:, 0], 'g-')\n",
    "# plt.show()\n",
    "plt.savefig('cpu.svg')"
   ]
  }
 ],
 "metadata": {
  "kernelspec": {
   "display_name": "Python 3",
   "language": "python",
   "name": "python3"
  },
  "language_info": {
   "codemirror_mode": {
    "name": "ipython",
    "version": 3
   },
   "file_extension": ".py",
   "mimetype": "text/x-python",
   "name": "python",
   "nbconvert_exporter": "python",
   "pygments_lexer": "ipython3",
   "version": "3.6.0"
  }
 },
 "nbformat": 4,
 "nbformat_minor": 2
}
