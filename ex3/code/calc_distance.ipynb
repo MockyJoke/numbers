{
 "cells": [
  {
   "cell_type": "code",
   "execution_count": 1,
   "metadata": {
    "collapsed": false
   },
   "outputs": [],
   "source": [
    "import sys\n",
    "import pandas as pd\n",
    "import xml.etree.ElementTree as ET\n",
    "from math import radians, cos, sin, asin, sqrt\n",
    "from pykalman import KalmanFilter\n",
    "\n",
    "filename1 = sys.argv[1]\n",
    "filename1 = \"walk1.gpx\""
   ]
  },
  {
   "cell_type": "code",
   "execution_count": 2,
   "metadata": {
    "collapsed": false
   },
   "outputs": [],
   "source": [
    "def output_gpx(points, output_filename):\n",
    "    \"\"\"\n",
    "    Output a GPX file with latitude and longitude from the points DataFrame.\n",
    "    \"\"\"\n",
    "    from xml.dom.minidom import getDOMImplementation\n",
    "    def append_trkpt(pt, trkseg, doc):\n",
    "        trkpt = doc.createElement('trkpt')\n",
    "        trkpt.setAttribute('lat', '%.8f' % (pt['lat']))\n",
    "        trkpt.setAttribute('lon', '%.8f' % (pt['lon']))\n",
    "        trkseg.appendChild(trkpt)\n",
    "    \n",
    "    doc = getDOMImplementation().createDocument(None, 'gpx', None)\n",
    "    trk = doc.createElement('trk')\n",
    "    doc.documentElement.appendChild(trk)\n",
    "    trkseg = doc.createElement('trkseg')\n",
    "    trk.appendChild(trkseg)\n",
    "    \n",
    "    points.apply(append_trkpt, axis=1, trkseg=trkseg, doc=doc)\n",
    "    \n",
    "    with open(output_filename, 'w') as fh:\n",
    "        doc.writexml(fh, indent=' ')\n",
    "        \n",
    "def read_gpx(filename):\n",
    "    tree = ET.parse(filename)\n",
    "    ns = tree.getroot().tag.split('}')[0]+'}'\n",
    "    pt_nodes = tree.findall(\"./{0}trk/{0}trkseg/{0}trkpt\".format(ns))\n",
    "    pts = [l.attrib for l in pt_nodes]\n",
    "    df = pd.DataFrame(pts)\n",
    "    df['lat'] =df['lat'].apply(float)\n",
    "    df['lon'] =df['lon'].apply(float)\n",
    "    return df\n",
    "\n",
    "def haversine(lat1, lon1, lat2, lon2):\n",
    "    \"\"\"\n",
    "    Calculate the great circle distance between two points \n",
    "    on the earth (specified in decimal degrees)\n",
    "    \"\"\"\n",
    "    # convert decimal degrees to radians \n",
    "    lon1, lat1, lon2, lat2 = map(radians, [lon1, lat1, lon2, lat2])\n",
    "\n",
    "    # haversine formula \n",
    "    dlon = lon2 - lon1 \n",
    "    dlat = lat2 - lat1 \n",
    "    a = sin(dlat/2)**2 + cos(lat1) * cos(lat2) * sin(dlon/2)**2\n",
    "    c = 2 * asin(sqrt(a)) \n",
    "    r = 6371 # Radius of earth in kilometers. Use 3956 for miles\n",
    "    r = r * 1000 # convert to meters\n",
    "    return c * r\n"
   ]
  },
  {
   "cell_type": "code",
   "execution_count": 3,
   "metadata": {
    "collapsed": false,
    "scrolled": true
   },
   "outputs": [
    {
     "name": "stdout",
     "output_type": "stream",
     "text": [
      "Unfiltered distance: 3186.44\n"
     ]
    }
   ],
   "source": [
    "def distance(points_df):\n",
    "    points_df.columns = ['lat1','lon1']\n",
    "    points_shift = points_df.shift(1)\n",
    "    points_shift.columns = ['lat2','lon2']\n",
    "    points_comb = points_df.join(points_shift)[1:]\n",
    "    points_comb['dist'] = points_comb.apply(lambda x: haversine(x.lat1,x.lon1,x.lat2,x.lon2),axis=1)\n",
    "    return points_comb['dist'].sum()\n",
    "\n",
    "points = read_gpx(filename1)\n",
    "print('Unfiltered distance: %0.2f' % (distance(points)))"
   ]
  },
  {
   "cell_type": "code",
   "execution_count": 10,
   "metadata": {
    "collapsed": false
   },
   "outputs": [
    {
     "data": {
      "text/plain": [
       "array([ 49.27911473,  49.27911431,  49.27911345,  49.27911215,\n",
       "        49.27911033,  49.27910807,  49.27910529,  49.2791021 ,\n",
       "        49.27909838,  49.27909423,  49.27908962,  49.27908456,\n",
       "        49.27907902,  49.27907304,  49.27906666,  49.27905985,\n",
       "        49.27905262,  49.279045  ,  49.27903697,  49.2790285 ,\n",
       "        49.27901961,  49.27901023,  49.27900052,  49.27899035,\n",
       "        49.27897971,  49.27896858,  49.27895687,  49.27894468,\n",
       "        49.27893201,  49.27891885,  49.27890521,  49.27889103,\n",
       "        49.2788763 ,  49.27886103,  49.2788452 ,  49.27882883,\n",
       "        49.2788119 ,  49.27879443,  49.27877642,  49.27875787,\n",
       "        49.27873877,  49.27871915,  49.27869907,  49.27867855,\n",
       "        49.27865766,  49.27863643,  49.27861503,  49.2785934 ,\n",
       "        49.27857158,  49.27854957,  49.27852733,  49.27850496,\n",
       "        49.27848254,  49.27846007,  49.27843765,  49.27841522,\n",
       "        49.27839279,  49.27837039,  49.27834802,  49.27832566,\n",
       "        49.27830332,  49.27828096,  49.27825864,  49.2782363 ,\n",
       "        49.27821393,  49.27819148,  49.278169  ,  49.27814646,\n",
       "        49.27812383,  49.27810112,  49.27807828,  49.27805537,\n",
       "        49.27803235,  49.27800923,  49.27798603,  49.27796277,\n",
       "        49.27793949,  49.27791624,  49.27789303,  49.27786998,\n",
       "        49.27784698,  49.27782402,  49.27780118,  49.27777872,\n",
       "        49.27775651,  49.27773459,  49.27771293,  49.27769159,\n",
       "        49.27767049,  49.27764979,  49.27762933,  49.27760924,\n",
       "        49.27758961,  49.27757066,  49.27755234,  49.27753474,\n",
       "        49.2775178 ,  49.27750164,  49.27748622,  49.27747152,\n",
       "        49.27745752,  49.27744423,  49.2774316 ,  49.27741971,\n",
       "        49.2774085 ,  49.277398  ,  49.27738825,  49.27737911,\n",
       "        49.27737067,  49.2773629 ,  49.27735575,  49.27734927,\n",
       "        49.27734342,  49.27733827,  49.27733376,  49.27732993,\n",
       "        49.27732672,  49.27732421,  49.27732237,  49.27732115,  49.27732056])"
      ]
     },
     "execution_count": 10,
     "metadata": {},
     "output_type": "execute_result"
    }
   ],
   "source": [
    "def smooth(points_df):\n",
    "    initial_state = points_df.iloc[0]\n",
    "    observation_stddev = 10 / (10 ** 5)\n",
    "    transition_stddev = 0.2 / (10 ** 5)\n",
    "    observation_covariance = [[observation_stddev ** 2, 0], [0, observation_stddev ** 2]]\n",
    "    transition_covariance = [[transition_stddev ** 2, 0], [0, transition_stddev ** 2]]\n",
    "\n",
    "\n",
    "    kf = KalmanFilter(\n",
    "                    initial_state_mean=initial_state,\n",
    "                    transition_matrices = [[1, 0], [0, 1]], \n",
    "                    observation_matrices = [[1, 0], [0, 1]],\n",
    "                    observation_covariance = observation_covariance,\n",
    "                    transition_covariance = transition_covariance)\n",
    "    kalman_smoothed, _ = kf.smooth(points)\n",
    "    df = pd.DataFrame(columns= ['lat','lon'])\n",
    "    df['lat'] = smoothed_points[:,0]\n",
    "    df['lon'] = smoothed_points[:,0]\n",
    "    return kalman_smoothed\n",
    "\n",
    "\n",
    "smoothed_points=smooth(points)\n",
    "smoothed_points[:,0]\n",
    "#print('Filtered distance: %0.2f' % (distance(smoothed_points)))"
   ]
  },
  {
   "cell_type": "code",
   "execution_count": null,
   "metadata": {
    "collapsed": false
   },
   "outputs": [],
   "source": [
    "points2 = pd.DataFrame({\n",
    "    'lat': [49.28, 49.26, 49.26],\n",
    "    'lon': [123.00, 123.10, 123.05]})\n",
    "points2\n",
    "distance(points2)"
   ]
  },
  {
   "cell_type": "code",
   "execution_count": null,
   "metadata": {
    "collapsed": false
   },
   "outputs": [],
   "source": [
    "haversine(49.27572142,123.01833098,49.2758587,123.0183036)\n"
   ]
  },
  {
   "cell_type": "code",
   "execution_count": null,
   "metadata": {
    "collapsed": false
   },
   "outputs": [],
   "source": [
    "def main():\n",
    "    points = get_data(sys.argv[1])\n",
    "    print('Unfiltered distance: %0.2f' % (distance(points),))\n",
    "    \n",
    "    smoothed_points = smooth(points)\n",
    "    print('Filtered distance: %0.2f' % (distance(smoothed_points),))\n",
    "    output_gpx(smoothed_points, 'out.gpx')\n",
    "\n",
    "\n",
    "if __name__ == '__main__':\n",
    "    main()"
   ]
  }
 ],
 "metadata": {
  "kernelspec": {
   "display_name": "Python 3",
   "language": "python",
   "name": "python3"
  },
  "language_info": {
   "codemirror_mode": {
    "name": "ipython",
    "version": 3
   },
   "file_extension": ".py",
   "mimetype": "text/x-python",
   "name": "python",
   "nbconvert_exporter": "python",
   "pygments_lexer": "ipython3",
   "version": "3.6.0"
  }
 },
 "nbformat": 4,
 "nbformat_minor": 2
}
