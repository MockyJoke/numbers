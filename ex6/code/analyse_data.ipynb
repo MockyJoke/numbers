{
 "cells": [
  {
   "cell_type": "code",
   "execution_count": 1,
   "metadata": {
    "collapsed": true
   },
   "outputs": [],
   "source": [
    "import sys\n",
    "import pandas as pd\n",
    "import numpy as np\n",
    "import difflib\n",
    "import gzip\n",
    "from scipy import stats\n",
    "from statsmodels.stats import multicomp\n",
    "import matplotlib.pyplot as plt\n"
   ]
  },
  {
   "cell_type": "code",
   "execution_count": 6,
   "metadata": {
    "collapsed": false,
    "scrolled": false
   },
   "outputs": [
    {
     "name": "stdout",
     "output_type": "stream",
     "text": [
      "p-value for ANOVA test: 3.77876441976e-204\n",
      "      Multiple Comparison of Means - Tukey HSD,FWER=0.05     \n",
      "=============================================================\n",
      "    group1         group2     meandiff  lower   upper  reject\n",
      "-------------------------------------------------------------\n",
      "    merge1     partition_sort -0.0838  -0.0891 -0.0785  True \n",
      "    merge1          qs1       -0.1164  -0.1217 -0.1111  True \n",
      "    merge1          qs2       -0.0351  -0.0404 -0.0298  True \n",
      "    merge1          qs3       -0.0385  -0.0438 -0.0332  True \n",
      "    merge1          qs4       -0.0526  -0.0579 -0.0473  True \n",
      "    merge1          qs5       -0.0479  -0.0532 -0.0426  True \n",
      "partition_sort      qs1       -0.0326  -0.0379 -0.0273  True \n",
      "partition_sort      qs2        0.0487   0.0434  0.054   True \n",
      "partition_sort      qs3        0.0453    0.04   0.0506  True \n",
      "partition_sort      qs4        0.0312   0.0259  0.0365  True \n",
      "partition_sort      qs5        0.0359   0.0306  0.0412  True \n",
      "     qs1            qs2        0.0813   0.076   0.0866  True \n",
      "     qs1            qs3        0.0779   0.0726  0.0832  True \n",
      "     qs1            qs4        0.0638   0.0585  0.0691  True \n",
      "     qs1            qs5        0.0685   0.0632  0.0738  True \n",
      "     qs2            qs3       -0.0033  -0.0086  0.002  False \n",
      "     qs2            qs4       -0.0175  -0.0228 -0.0122  True \n",
      "     qs2            qs5       -0.0128  -0.0181 -0.0075  True \n",
      "     qs3            qs4       -0.0142  -0.0195 -0.0089  True \n",
      "     qs3            qs5       -0.0095  -0.0148 -0.0042  True \n",
      "     qs4            qs5        0.0047  -0.0006   0.01  False \n",
      "-------------------------------------------------------------\n",
      "If we do a normal test on the data set\n",
      "             name  normalTest_p\n",
      "0             qs1  3.594489e-09\n",
      "1             qs2  1.779048e-14\n",
      "2             qs3  3.718075e-12\n",
      "3             qs4  7.521763e-09\n",
      "4             qs5  3.381959e-05\n",
      "5          merge1  6.375844e-15\n",
      "6  partition_sort  4.242822e-04\n",
      "----------------------------------------------------------------\n",
      "The data showes the distribution is sometimes not normal......Hmm...\n",
      "It could means that not conclusion can be drawn from ANOVA test since ANOVA test requires data in nomal distribution.\n",
      "But we will assume they are normal, by the nature of the test.\n",
      "From the scipy ANOVA website https://docs.scipy.org/doc/scipy-0.14.0/reference/generated/scipy.stats.f_oneway.html\n",
      "It hints that we could use Kruskal-Wallis H-test (which does not require data in normal distribution). Let's try it !\n",
      "\n"
     ]
    },
    {
     "data": {
      "image/png": "[encoded data removed]",
      "text/plain": [
       "<matplotlib.figure.Figure at 0x7f4b2e7e34e0>"
      ]
     },
     "metadata": {},
     "output_type": "display_data"
    }
   ],
   "source": [
    "df = pd.read_table(\"data.csv\",sep=',')\n",
    "stats.normaltest(np.sqrt(df['qs1']))\n",
    "df_sum = pd.DataFrame(columns =[\"name\",\"normalTest_p\"])\n",
    "df_sum['name']=df.columns\n",
    "df_sum[\"normalTest_p\"] = df.apply(lambda x: stats.normaltest(x.values).pvalue).values\n",
    "\n",
    "p_anova = stats.f_oneway(df[\"qs1\"],df[\"qs2\"],df[\"qs3\"],df[\"qs4\"],df[\"qs5\"],df[\"merge1\"],df[\"partition_sort\"])\n",
    "print(\"p-value for ANOVA test: \"+str(p_anova.pvalue))\n",
    "x_melt = pd.melt(df)\n",
    "posthoc = multicomp.pairwise_tukeyhsd(x_melt['value'], x_melt['variable'], alpha=0.05)\n",
    "print(posthoc)\n",
    "print(\"\"\"If we do a normal test on the data set\"\"\")\n",
    "print(df_sum)\n",
    "print(\"----------------------------------------------------------------\")\n",
    "print(\"\"\"The data showes the distribution is sometimes not normal......Hmm...\"\"\")\n",
    "print(\"\"\"It could means that not conclusion can be drawn from ANOVA test since ANOVA test requires data in nomal distribution.\"\"\")\n",
    "print(\"\"\"But we will assume they are normal, by the nature of the test.\"\"\")\n",
    "print(\"\"\"From the scipy ANOVA website https://docs.scipy.org/doc/scipy-0.14.0/reference/generated/scipy.stats.f_oneway.html\"\"\")\n",
    "print(\"\"\"It hints that we could use Kruskal-Wallis H-test (which does not require data in normal distribution). Let's try it !\"\"\")\n",
    "print(\"\")\n",
    "\n",
    "posthoc.plot_simultaneous()\n",
    "plt.show()\n"
   ]
  },
  {
   "cell_type": "code",
   "execution_count": 3,
   "metadata": {
    "collapsed": false,
    "scrolled": true
   },
   "outputs": [
    {
     "name": "stdout",
     "output_type": "stream",
     "text": [
      "p-value for Kruskal-Wallis H-test: 2.41537196544e-63\n",
      "since p-value is < 0.05, we could conclude that they have different means.\n"
     ]
    }
   ],
   "source": [
    "p_kwh = stats.kruskal(df[\"qs1\"],df[\"qs2\"],df[\"qs3\"],df[\"qs4\"],df[\"qs5\"],df[\"merge1\"],df[\"partition_sort\"])\n",
    "print(\"p-value for Kruskal-Wallis H-test: \"+str(p_kwh.pvalue))\n",
    "print(\"since p-value is < 0.05, we could conclude that they have different means.\")"
   ]
  },
  {
   "cell_type": "code",
   "execution_count": 4,
   "metadata": {
    "collapsed": false
   },
   "outputs": [
    {
     "data": {
      "text/html": [
       "<div>\n",
       "<table border=\"1\" class=\"dataframe\">\n",
       "  <thead>\n",
       "    <tr style=\"text-align: right;\">\n",
       "      <th></th>\n",
       "      <th>name</th>\n",
       "      <th>normalTest_p</th>\n",
       "      <th>CLTed_normalTest_p</th>\n",
       "    </tr>\n",
       "  </thead>\n",
       "  <tbody>\n",
       "    <tr>\n",
       "      <th>0</th>\n",
       "      <td>qs1</td>\n",
       "      <td>3.594489e-09</td>\n",
       "      <td>0.361344</td>\n",
       "    </tr>\n",
       "    <tr>\n",
       "      <th>1</th>\n",
       "      <td>qs2</td>\n",
       "      <td>1.779048e-14</td>\n",
       "      <td>0.996811</td>\n",
       "    </tr>\n",
       "    <tr>\n",
       "      <th>2</th>\n",
       "      <td>qs3</td>\n",
       "      <td>3.718075e-12</td>\n",
       "      <td>0.759101</td>\n",
       "    </tr>\n",
       "    <tr>\n",
       "      <th>3</th>\n",
       "      <td>qs4</td>\n",
       "      <td>7.521763e-09</td>\n",
       "      <td>0.021634</td>\n",
       "    </tr>\n",
       "    <tr>\n",
       "      <th>4</th>\n",
       "      <td>qs5</td>\n",
       "      <td>3.381959e-05</td>\n",
       "      <td>0.450076</td>\n",
       "    </tr>\n",
       "    <tr>\n",
       "      <th>5</th>\n",
       "      <td>merge1</td>\n",
       "      <td>6.375844e-15</td>\n",
       "      <td>0.180559</td>\n",
       "    </tr>\n",
       "    <tr>\n",
       "      <th>6</th>\n",
       "      <td>partition_sort</td>\n",
       "      <td>4.242822e-04</td>\n",
       "      <td>0.599461</td>\n",
       "    </tr>\n",
       "  </tbody>\n",
       "</table>\n",
       "</div>"
      ],
      "text/plain": [
       "             name  normalTest_p  CLTed_normalTest_p\n",
       "0             qs1  3.594489e-09            0.361344\n",
       "1             qs2  1.779048e-14            0.996811\n",
       "2             qs3  3.718075e-12            0.759101\n",
       "3             qs4  7.521763e-09            0.021634\n",
       "4             qs5  3.381959e-05            0.450076\n",
       "5          merge1  6.375844e-15            0.180559\n",
       "6  partition_sort  4.242822e-04            0.599461"
      ]
     },
     "execution_count": 4,
     "metadata": {},
     "output_type": "execute_result"
    }
   ],
   "source": [
    "def apply_CLT(data,sample_size,times):\n",
    "    result=[]\n",
    "    for i in range(times):\n",
    "        samples = np.random.randint(0,len(data),sample_size)\n",
    "        mean = np.mean([data[j] for j in samples])\n",
    "        result.append(mean)\n",
    "    return result\n",
    "\n",
    "clt_values = df.apply(lambda x: stats.normaltest(apply_CLT(x.values,20,25)).pvalue).values\n",
    "df_sum[\"CLTed_normalTest_p\"] = clt_values\n",
    "df_sum\n",
    "# k =apply_CLT(df['qs4'],30,25)\n",
    "# plt.plot(k,\"r.\")\n",
    "# plt.hist(k)\n",
    "# plt.show()\n",
    "# stats.normaltest(k)"
   ]
  }
 ],
 "metadata": {
  "kernelspec": {
   "display_name": "Python 3",
   "language": "python",
   "name": "python3"
  },
  "language_info": {
   "codemirror_mode": {
    "name": "ipython",
    "version": 3
   },
   "file_extension": ".py",
   "mimetype": "text/x-python",
   "name": "python",
   "nbconvert_exporter": "python",
   "pygments_lexer": "ipython3",
   "version": "3.6.0"
  }
 },
 "nbformat": 4,
 "nbformat_minor": 2
}
