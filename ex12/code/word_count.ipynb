{
 "cells": [
  {
   "cell_type": "code",
   "execution_count": 38,
   "metadata": {
    "collapsed": false
   },
   "outputs": [
    {
     "name": "stdout",
     "output_type": "stream",
     "text": [
      "+--------------------+\n",
      "|               value|\n",
      "+--------------------+\n",
      "|[Sense and Sensib...|\n",
      "|                    |\n",
      "|           CHAPTER 1|\n",
      "|                    |\n",
      "|                    |\n",
      "|The family of Das...|\n",
      "|Their estate was ...|\n",
      "|in the centre of ...|\n",
      "|they had lived in...|\n",
      "|the general good ...|\n",
      "|The late owner of...|\n",
      "|to a very advance...|\n",
      "|had a constant co...|\n",
      "|But her death, wh...|\n",
      "|produced a great ...|\n",
      "|her loss, he invi...|\n",
      "|of his nephew Mr....|\n",
      "|of the Norland es...|\n",
      "|to bequeath it.  ...|\n",
      "|and their childre...|\n",
      "+--------------------+\n",
      "only showing top 20 rows\n",
      "\n"
     ]
    }
   ],
   "source": [
    "import findspark\n",
    "findspark.init()\n",
    "\n",
    "\n",
    "import sys\n",
    "from pyspark.sql import SparkSession, functions, types\n",
    "\n",
    "spark = SparkSession.builder.appName('reddit relative scores').getOrCreate()\n",
    "\n",
    "assert sys.version_info >= (3, 4) # make sure we have Python 3.4+\n",
    "assert spark.version >= '2.1' # make sure we have Spark 2.1+\n",
    "\n",
    "import string, re\n",
    "wordbreak = r'[%s\\s]+' % (re.escape(string.punctuation),)  # regex that matches spaces and/or punctuation\n",
    "\n",
    "def main():\n",
    "    in_directory = sys.argv[1]\n",
    "    out_directory = sys.argv[2]\n",
    "    in_directory = \"wordcount-1\"\n",
    "    out_directory = \"output\"\n",
    "\n",
    "    \n",
    "    words = spark.read.text(in_directory)\n",
    "    words.show()\n",
    "    sperated = words.select(functions.explode(functions.split(functions.lower(words[\"value\"]),wordbreak)).alias(\"word\"))\n",
    "#     sperated.show()\n",
    "    word_count = sperated.groupby(\"word\").agg(functions.count(\"word\").alias(\"count\"))\n",
    "#     word_count.show()\n",
    "    sorted_word_count = word_count.orderBy(functions.desc(\"count\"),\"word\").filter(word_count[\"word\"] !=\"\")\n",
    "    \n",
    "    sorted_word_count.write.csv(out_directory, mode = \"overwrite\")\n",
    "if __name__=='__main__':\n",
    "    main()\n"
   ]
  }
 ],
 "metadata": {
  "kernelspec": {
   "display_name": "Python 3",
   "language": "python",
   "name": "python3"
  },
  "language_info": {
   "codemirror_mode": {
    "name": "ipython",
    "version": 3
   },
   "file_extension": ".py",
   "mimetype": "text/x-python",
   "name": "python",
   "nbconvert_exporter": "python",
   "pygments_lexer": "ipython3",
   "version": "3.6.0"
  }
 },
 "nbformat": 4,
 "nbformat_minor": 2
}
