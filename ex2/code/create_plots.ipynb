{
 "cells": [
  {
   "cell_type": "code",
   "execution_count": 1,
   "metadata": {
    "collapsed": true
   },
   "outputs": [],
   "source": [
    "import sys\n",
    "import pandas as pd\n",
    "import matplotlib.pyplot as plt\n",
    "\n",
    "filename1 = sys.argv[1]\n",
    "filename2 = sys.argv[2]\n",
    "#filename1 = \"pagecounts-20160802-150000.txt\"\n",
    "#filename2 = \"pagecounts-20160803-150000.txt\""
   ]
  },
  {
   "cell_type": "code",
   "execution_count": 2,
   "metadata": {
    "collapsed": false
   },
   "outputs": [],
   "source": [
    "dataframe1 = pd.read_table(filename1, sep=' ', header=None, index_col=1,\n",
    "        names=['lang', 'page', 'views', 'bytes'])\n",
    "dataframe2 = pd.read_table(filename2, sep=' ', header=None, index_col=1,\n",
    "        names=['lang', 'page', 'views', 'bytes'])"
   ]
  },
  {
   "cell_type": "code",
   "execution_count": 3,
   "metadata": {
    "collapsed": false
   },
   "outputs": [],
   "source": [
    "dataframe1 = dataframe1.sort_values([\"views\"],ascending=False)"
   ]
  },
  {
   "cell_type": "code",
   "execution_count": 4,
   "metadata": {
    "collapsed": false
   },
   "outputs": [],
   "source": [
    "combo = pd.concat([dataframe1, dataframe2], axis=1, join_axes=[dataframe1.index])\n",
    "new_columns = combo.columns.values\n",
    "new_columns[4]=\"views2\"\n",
    "combo.column = new_columns\n",
    "#combo"
   ]
  },
  {
   "cell_type": "code",
   "execution_count": 5,
   "metadata": {
    "collapsed": false,
    "scrolled": true
   },
   "outputs": [],
   "source": [
    "plt.figure(figsize=(10, 5)) # change the size to something sensible\n",
    "plt.subplot(1, 2, 1) # subplots in 1 row, 2 columns, select the first\n",
    "plt.title('Popularity Distribution')\n",
    "plt.xlabel(\"Rank\")\n",
    "plt.ylabel(\"Views\")\n",
    "plt.plot(dataframe1['views'].values)\n",
    "\n",
    "plt.subplot(1, 2, 2) # ... and then select the second\n",
    "plt.title('Daily Correlation')\n",
    "plt.xlabel(\"Day 2 views\")\n",
    "plt.ylabel(\"Day 1 views\")\n",
    "plt.plot(combo['views'].values,combo['views2'].values,'b.')\n",
    "plt.xscale('log')\n",
    "plt.yscale('log')\n",
    "\n",
    "#plt.show()\n",
    "plt.savefig('wikipedia.png')"
   ]
  }
 ],
 "metadata": {
  "kernelspec": {
   "display_name": "Python 3",
   "language": "python",
   "name": "python3"
  },
  "language_info": {
   "codemirror_mode": {
    "name": "ipython",
    "version": 3
   },
   "file_extension": ".py",
   "mimetype": "text/x-python",
   "name": "python",
   "nbconvert_exporter": "python",
   "pygments_lexer": "ipython3",
   "version": "3.5.2"
  }
 },
 "nbformat": 4,
 "nbformat_minor": 2
}
