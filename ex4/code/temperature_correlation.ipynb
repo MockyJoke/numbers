{
 "cells": [
  {
   "cell_type": "code",
   "execution_count": 1,
   "metadata": {
    "collapsed": true
   },
   "outputs": [],
   "source": [
    "import sys\n",
    "import pandas as pd\n",
    "import numpy as np\n",
    "import difflib\n",
    "import gzip\n",
    "import matplotlib.pyplot as plt\n"
   ]
  },
  {
   "cell_type": "code",
   "execution_count": 2,
   "metadata": {
    "collapsed": true
   },
   "outputs": [],
   "source": [
    "filename1 = \"stations.json.gz\"\n",
    "filename2 = \"city_data.csv\"\n",
    "filename3 = \"output.svg\" \n",
    "# filename1 = sys.argv[1]\n",
    "# filename2 = sys.argv[2]\n",
    "# filename3 = sys.argv[3]"
   ]
  },
  {
   "cell_type": "code",
   "execution_count": 3,
   "metadata": {
    "collapsed": false
   },
   "outputs": [],
   "source": [
    "station_fh = gzip.open(filename1, 'rt', encoding='utf-8')\n",
    "stations = pd.read_json(station_fh, lines=True)\n",
    "cities = pd.read_table(filename2,sep=',')\n",
    "# devide by 10 on temperature\n",
    "stations[\"avg_tmax\"] = stations[\"avg_tmax\"].apply(lambda x: x/10)\n",
    "\n",
    "# Exclude cities with area > 10000 sq km\n",
    "cities[\"area\"] = cities[\"area\"].apply(lambda a : a /1000000.0)\n",
    "cities = cities[cities[\"area\"]<=10000]\n",
    "cities = cities[cities[\"area\"].notnull()]\n",
    "cities = cities[cities[\"population\"].notnull()]\n",
    "cities[\"pop_den\"]=cities[\"population\"]/cities[\"area\"]\n",
    "# stations"
   ]
  },
  {
   "cell_type": "code",
   "execution_count": 4,
   "metadata": {
    "collapsed": false
   },
   "outputs": [],
   "source": [
    "# cities"
   ]
  },
  {
   "cell_type": "code",
   "execution_count": 5,
   "metadata": {
    "collapsed": false,
    "scrolled": true
   },
   "outputs": [],
   "source": [
    "# Calculate distance from lat/lon. Adapted from stackoverflow.com\n",
    "# https://stackoverflow.com/questions/27928/calculate-distance-between-two-latitude-longitude-points-haversine-formula/21623206\n",
    "def distance(city, stations):\n",
    "    p = 0.017453292519943295     #Pi/180\n",
    "    lat1 = city[\"latitude\"]\n",
    "    lon1 = city[\"longitude\"]\n",
    "    lat2 = stations[\"latitude\"]\n",
    "    lon2 = stations[\"longitude\"]\n",
    "    a = 0.5 - np.cos((lat2 - lat1) * p)/2 + np.cos(lat1 * p) * np.cos(lat2 * p) * (1 - np.cos((lon2 - lon1) * p)) / 2\n",
    "    return 12742 * np.arcsin(np.sqrt(a)) #2*R*asin...\n",
    "\n",
    "def best_tmax(city, stations):\n",
    "    distances = distance(city, stations)\n",
    "    station_min_dist = distances.idxmin()\n",
    "    station_min = stations.iloc[station_min_dist]\n",
    "    return station_min[\"avg_tmax\"]\n",
    "\n",
    "cities[\"avg_tmax\"] = cities.apply(best_tmax, stations=stations, axis =1)"
   ]
  },
  {
   "cell_type": "code",
   "execution_count": 6,
   "metadata": {
    "collapsed": false
   },
   "outputs": [],
   "source": [
    "plt.title('Temperature vs Population Density')\n",
    "plt.xlabel(\"Avg Max Temperature (\\u00b0C)\")\n",
    "plt.ylabel(\"Population Density (people/km\\u00b2)\")\n",
    "plt.plot(cities[\"avg_tmax\"],cities[\"pop_den\"].values,'b.')\n",
    "# plt.show()\n",
    "plt.savefig(filename3)"
   ]
  }
 ],
 "metadata": {
  "kernelspec": {
   "display_name": "Python [default]",
   "language": "python",
   "name": "python3"
  },
  "language_info": {
   "codemirror_mode": {
    "name": "ipython",
    "version": 3
   },
   "file_extension": ".py",
   "mimetype": "text/x-python",
   "name": "python",
   "nbconvert_exporter": "python",
   "pygments_lexer": "ipython3",
   "version": "3.5.2"
  }
 },
 "nbformat": 4,
 "nbformat_minor": 2
}
