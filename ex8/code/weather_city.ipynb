{
 "cells": [
  {
   "cell_type": "code",
   "execution_count": 1,
   "metadata": {
    "collapsed": true
   },
   "outputs": [],
   "source": [
    "import numpy as np\n",
    "import pandas as pd\n",
    "import matplotlib.pyplot as plt\n",
    "from skimage.color import lab2rgb\n",
    "from sklearn import model_selection\n",
    "from sklearn.naive_bayes import GaussianNB\n",
    "from sklearn.neighbors import KNeighborsClassifier\n",
    "import sys\n",
    "from sklearn.metrics import accuracy_score\n",
    "from skimage import color\n",
    "from sklearn import pipeline\n",
    "from sklearn import preprocessing\n",
    "from sklearn import svm\n",
    "from sklearn.preprocessing import StandardScaler"
   ]
  },
  {
   "cell_type": "code",
   "execution_count": 4,
   "metadata": {
    "collapsed": false
   },
   "outputs": [
    {
     "name": "stdout",
     "output_type": "stream",
     "text": [
      "0.803448275862\n"
     ]
    }
   ],
   "source": [
    "filename1 = \"monthly-data-labelled.csv\"\n",
    "filename2 = \"monthly-data-unlabelled.csv\"\n",
    "filename3 = \"labels.csv\"\n",
    "data = pd.read_csv(filename1)\n",
    "unlabelled_data = pd.read_csv(filename2)\n",
    "\n",
    "training_columns = data.columns.tolist()\n",
    "training_columns.remove(\"city\")\n",
    "training_columns.remove(\"year\")\n",
    "\n",
    "# training_columns\n",
    "X_train,X_test,y_train,y_test = model_selection.train_test_split(data[training_columns].values,data[\"city\"].values)\n",
    "\n",
    "svc_model = pipeline.make_pipeline(StandardScaler(),svm.SVC(C=1.0,kernel=\"linear\", decision_function_shape=\"ovr\"))\n",
    "\n",
    "svc_model.fit(X_train,y_train)\n",
    "Y_predicted_svc = svc_model.predict(X_test)\n",
    "print(accuracy_score(y_test, Y_predicted_svc))"
   ]
  },
  {
   "cell_type": "code",
   "execution_count": 5,
   "metadata": {
    "collapsed": false
   },
   "outputs": [],
   "source": [
    "predictions = svc_model.predict(unlabelled_data[training_columns].values)\n",
    "pd.Series(predictions).to_csv(filename3, index=False)"
   ]
  }
 ],
 "metadata": {
  "kernelspec": {
   "display_name": "Python 3",
   "language": "python",
   "name": "python3"
  },
  "language_info": {
   "codemirror_mode": {
    "name": "ipython",
    "version": 3
   },
   "file_extension": ".py",
   "mimetype": "text/x-python",
   "name": "python",
   "nbconvert_exporter": "python",
   "pygments_lexer": "ipython3",
   "version": "3.6.0"
  }
 },
 "nbformat": 4,
 "nbformat_minor": 2
}
