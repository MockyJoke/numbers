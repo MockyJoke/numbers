{
 "cells": [
  {
   "cell_type": "code",
   "execution_count": 1,
   "metadata": {
    "collapsed": true
   },
   "outputs": [],
   "source": [
    "import numpy as np\n",
    "import pandas as pd\n",
    "import matplotlib.pyplot as plt\n",
    "from skimage.color import lab2rgb\n",
    "from sklearn import model_selection\n",
    "from sklearn.naive_bayes import GaussianNB\n",
    "from sklearn.neighbors import KNeighborsClassifier\n",
    "import sys\n",
    "from sklearn.metrics import accuracy_score\n",
    "from skimage import color\n",
    "from sklearn import pipeline\n",
    "from sklearn import preprocessing\n",
    "from sklearn import svm\n",
    "from sklearn.preprocessing import StandardScaler"
   ]
  },
  {
   "cell_type": "code",
   "execution_count": 7,
   "metadata": {
    "collapsed": false
   },
   "outputs": [
    {
     "name": "stdout",
     "output_type": "stream",
     "text": [
      "0.806896551724\n",
      "         prediction      truth\n",
      "2           Seattle   Victoria\n",
      "6     Atlantic City    Chicago\n",
      "17           Regina   Winnipeg\n",
      "18         Portland    Seattle\n",
      "22         Edmonton   Winnipeg\n",
      "24         Edmonton   Winnipeg\n",
      "25         Edmonton    Calgary\n",
      "27        Vancouver   Victoria\n",
      "41           London    Chicago\n",
      "49         Montreal     Ottawa\n",
      "59           Regina   Winnipeg\n",
      "60        Saskatoon   Winnipeg\n",
      "65          Seattle  Vancouver\n",
      "67           Regina   Winnipeg\n",
      "73         Victoria  Vancouver\n",
      "84          Seattle   Portland\n",
      "87        Saskatoon     Regina\n",
      "90           Regina   Winnipeg\n",
      "93         Victoria    Seattle\n",
      "95           London     Ottawa\n",
      "98           London     Ottawa\n",
      "99          Seattle  Vancouver\n",
      "104         Toronto     London\n",
      "106       Vancouver   Victoria\n",
      "109        Victoria  Vancouver\n",
      "112         Seattle   Victoria\n",
      "114        Edmonton    Calgary\n",
      "117          London    Toronto\n",
      "119          Regina   Edmonton\n",
      "120         Seattle   Portland\n",
      "128       Saskatoon     Regina\n",
      "130          Gander     Québec\n",
      "131         Chicago    Toronto\n",
      "143       Vancouver    Seattle\n",
      "154   Atlantic City    Chicago\n",
      "161         Chicago     Ottawa\n",
      "172        Montreal     Québec\n",
      "174         Seattle   Victoria\n",
      "175         Seattle  Vancouver\n",
      "185         Toronto    Chicago\n",
      "202        Portland    Seattle\n",
      "204       Saskatoon   Winnipeg\n",
      "208  Raleigh Durham    Atlanta\n",
      "211          Ottawa   Montreal\n",
      "212        Winnipeg     Regina\n",
      "213          London    Toronto\n",
      "217        Montreal     Ottawa\n",
      "224         Toronto     London\n",
      "226         Chicago     London\n",
      "237          Regina   Winnipeg\n",
      "238          Regina   Winnipeg\n",
      "246       Saskatoon     Regina\n",
      "258       Saskatoon     Regina\n",
      "262  Raleigh Durham    Atlanta\n",
      "265          Regina   Winnipeg\n",
      "282          London    Toronto\n"
     ]
    }
   ],
   "source": [
    "filename1 = \"monthly-data-labelled.csv\"\n",
    "filename2 = \"monthly-data-unlabelled.csv\"\n",
    "filename3 = \"labels.csv\"\n",
    "data = pd.read_csv(filename1)\n",
    "unlabelled_data = pd.read_csv(filename2)\n",
    "\n",
    "training_columns = data.columns.tolist()\n",
    "training_columns.remove(\"city\")\n",
    "training_columns.remove(\"year\")\n",
    "\n",
    "# training_columns\n",
    "X_train,X_test,y_train,y_test = model_selection.train_test_split(data[training_columns].values,data[\"city\"].values)\n",
    "\n",
    "svc_model = pipeline.make_pipeline(StandardScaler(),svm.SVC(C=1.0,kernel=\"linear\", decision_function_shape=\"ovr\"))\n",
    "\n",
    "svc_model.fit(X_train,y_train)\n",
    "Y_predicted_svc = svc_model.predict(X_test)\n",
    "print(accuracy_score(y_test, Y_predicted_svc))\n",
    "df = pd.DataFrame({'truth': y_test, 'prediction': svc_model.predict(X_test)})\n",
    "print(df[df['truth'] != df['prediction']])"
   ]
  },
  {
   "cell_type": "code",
   "execution_count": 5,
   "metadata": {
    "collapsed": false
   },
   "outputs": [],
   "source": [
    "predictions = svc_model.predict(unlabelled_data[training_columns].values)\n",
    "pd.Series(predictions).to_csv(filename3, index=False)"
   ]
  }
 ],
 "metadata": {
  "kernelspec": {
   "display_name": "Python 3",
   "language": "python",
   "name": "python3"
  },
  "language_info": {
   "codemirror_mode": {
    "name": "ipython",
    "version": 3
   },
   "file_extension": ".py",
   "mimetype": "text/x-python",
   "name": "python",
   "nbconvert_exporter": "python",
   "pygments_lexer": "ipython3",
   "version": "3.6.0"
  }
 },
 "nbformat": 4,
 "nbformat_minor": 2
}
