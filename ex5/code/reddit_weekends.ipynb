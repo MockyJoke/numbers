{
 "cells": [
  {
   "cell_type": "code",
   "execution_count": 1,
   "metadata": {
    "collapsed": true
   },
   "outputs": [],
   "source": [
    "import sys\n",
    "import pandas as pd\n",
    "import numpy as np\n",
    "import difflib\n",
    "import gzip\n",
    "import matplotlib.pyplot as plt\n",
    "from scipy import stats \n",
    "\n",
    "# filename1 = sys.argv[1]\n",
    "\n",
    "filename1 = \"reddit-counts.json.gz\""
   ]
  },
  {
   "cell_type": "code",
   "execution_count": 2,
   "metadata": {
    "collapsed": false
   },
   "outputs": [],
   "source": [
    "def filter_data(df):\n",
    "# data_file = gzip.open(filename1, 'rt', encoding='utf-8')\n",
    "# data = pd.read_json(data_file, lines=True)\n",
    "    data=df.copy()\n",
    "    data['year']=data.apply(lambda x: x['date'].year,axis = 1)\n",
    "    data['iso_year']=data.apply(lambda x: x['date'].isocalendar()[0],axis = 1)\n",
    "    data['week_sq']=data.apply(lambda x: x['date'].isocalendar()[1],axis = 1)\n",
    "    data['weekday']=data.apply(lambda x: x['date'].isocalendar()[2],axis = 1)\n",
    "    data = data[((data['year']==2012)|(data['year']==2013))&(data['subreddit']==\"canada\")]\n",
    "    data['isWeekend'] = data.apply(lambda x: False if x['weekday'] < 6 else True, axis = 1)\n",
    "    return data"
   ]
  },
  {
   "cell_type": "code",
   "execution_count": 3,
   "metadata": {
    "collapsed": false,
    "scrolled": true
   },
   "outputs": [],
   "source": [
    "# weekends = data[data[\"isWeekend\"]==True]\n",
    "# weekdays = data[data[\"isWeekend\"]==False]"
   ]
  },
  {
   "cell_type": "markdown",
   "metadata": {},
   "source": [
    "<h2>Normality and Equal variance Test</h2>"
   ]
  },
  {
   "cell_type": "code",
   "execution_count": 4,
   "metadata": {
    "collapsed": false,
    "scrolled": false
   },
   "outputs": [],
   "source": [
    "# print(stats.normaltest(weekends[\"comment_count\"]).pvalue)\n",
    "# print(stats.normaltest(weekdays[\"comment_count\"]).pvalue)\n",
    "# print(stats.levene(weekdays[\"comment_count\"],weekends[\"comment_count\"]).pvalue)"
   ]
  },
  {
   "cell_type": "code",
   "execution_count": 5,
   "metadata": {
    "collapsed": false
   },
   "outputs": [],
   "source": [
    "def fix_1(func):\n",
    "    print(func)\n",
    "    print(stats.normaltest(func(weekends[\"comment_count\"])).pvalue)\n",
    "    print(stats.normaltest(func(weekdays[\"comment_count\"])).pvalue)\n",
    "    print(stats.levene(func(weekdays[\"comment_count\"]),func(weekends[\"comment_count\"])).pvalue)\n",
    "# fix_1(np.log)\n",
    "# fix_1(np.log)\n",
    "# # not working for exp\n",
    "# # fix_1(np.exp)\n",
    "# fix_1(np.sqrt)\n",
    "# fix_1(lambda x:x*x)"
   ]
  },
  {
   "cell_type": "markdown",
   "metadata": {},
   "source": [
    "<h3>Fix 2</h3>"
   ]
  },
  {
   "cell_type": "code",
   "execution_count": 6,
   "metadata": {
    "collapsed": false
   },
   "outputs": [],
   "source": [
    "# weekends_by_week = weekends.groupby([\"iso_year\",\"week_sq\"]).mean().reset_index()\n",
    "# weekdays_by_week = weekdays.groupby([\"iso_year\",\"week_sq\"]).mean().reset_index()\n",
    "\n",
    "# print(stats.normaltest(weekends_by_week[\"comment_count\"]).pvalue)\n",
    "# print(stats.normaltest(weekdays_by_week[\"comment_count\"]).pvalue)\n",
    "# print(stats.levene(weekdays_by_week[\"comment_count\"],weekends_by_week[\"comment_count\"]).pvalue)\n",
    "# print(stats.ttest_ind(weekdays_by_week[\"comment_count\"],weekends_by_week[\"comment_count\"]))"
   ]
  },
  {
   "cell_type": "markdown",
   "metadata": {},
   "source": [
    "<h3>Fix 3</h3>"
   ]
  },
  {
   "cell_type": "code",
   "execution_count": 7,
   "metadata": {
    "collapsed": false
   },
   "outputs": [],
   "source": [
    "# print(stats.mannwhitneyu(weekdays[\"comment_count\"],weekends[\"comment_count\"]))"
   ]
  },
  {
   "cell_type": "code",
   "execution_count": 8,
   "metadata": {
    "collapsed": false
   },
   "outputs": [
    {
     "name": "stdout",
     "output_type": "stream",
     "text": [
      "Initial (invalid) T-test p-value: 1.3e-58\n",
      "Original data normality p-values: 1.01e-07 0.00152\n",
      "Original data equal-variance p-value: 0.0438\n",
      "Transformed data normality p-values: 0.0369 0.108\n",
      "Transformed data equal-variance p-value: 0.556\n",
      "Weekly data normality p-values: 0.308 0.153\n",
      "Weekly data equal-variance p-value: 0.204\n",
      "Weekly T-test p-value: 1.34e-34\n",
      "Mann–Whitney U-test p-value: 4.31e-53\n"
     ]
    }
   ],
   "source": [
    "\n",
    "def main():\n",
    "    OUTPUT_TEMPLATE = (\n",
    "    \"Initial (invalid) T-test p-value: {initial_ttest_p:.3g}\\n\"\n",
    "    \"Original data normality p-values: {initial_weekday_normality_p:.3g} {initial_weekend_normality_p:.3g}\\n\"\n",
    "    \"Original data equal-variance p-value: {initial_levene_p:.3g}\\n\"\n",
    "    \"Transformed data normality p-values: {transformed_weekday_normality_p:.3g} {transformed_weekend_normality_p:.3g}\\n\"\n",
    "    \"Transformed data equal-variance p-value: {transformed_levene_p:.3g}\\n\"\n",
    "    \"Weekly data normality p-values: {weekly_weekday_normality_p:.3g} {weekly_weekend_normality_p:.3g}\\n\"\n",
    "    \"Weekly data equal-variance p-value: {weekly_levene_p:.3g}\\n\"\n",
    "    \"Weekly T-test p-value: {weekly_ttest_p:.3g}\\n\"\n",
    "    \"Mann–Whitney U-test p-value: {utest_p:.3g}\"\n",
    ")\n",
    "    \n",
    "    reddit_counts = sys.argv[1]\n",
    "\n",
    "    # ...\n",
    "    data_file = gzip.open(filename1, 'rt', encoding='utf-8')\n",
    "    df = pd.read_json(data_file, lines=True)\n",
    "    data = filter_data(df)\n",
    "    weekends = data[data[\"isWeekend\"]==True]\n",
    "    weekdays = data[data[\"isWeekend\"]==False]\n",
    "    \n",
    "    weekends_by_week = weekends.groupby([\"iso_year\",\"week_sq\"]).mean().reset_index()\n",
    "    weekdays_by_week = weekdays.groupby([\"iso_year\",\"week_sq\"]).mean().reset_index()\n",
    "    \n",
    "    print(OUTPUT_TEMPLATE.format(\n",
    "        initial_ttest_p=stats.ttest_ind(weekdays[\"comment_count\"],weekends[\"comment_count\"]).pvalue,\n",
    "        initial_weekday_normality_p=stats.normaltest(weekdays[\"comment_count\"]).pvalue,\n",
    "        initial_weekend_normality_p=stats.normaltest(weekends[\"comment_count\"]).pvalue,\n",
    "        initial_levene_p=stats.levene(weekdays[\"comment_count\"],weekends[\"comment_count\"]).pvalue,\n",
    "        transformed_weekday_normality_p=stats.normaltest(np.sqrt(weekdays[\"comment_count\"])).pvalue,\n",
    "        transformed_weekend_normality_p=stats.normaltest(np.sqrt(weekends[\"comment_count\"])).pvalue,\n",
    "        transformed_levene_p=stats.levene(np.sqrt(weekdays[\"comment_count\"]),np.sqrt(weekends[\"comment_count\"])).pvalue,\n",
    "        weekly_weekday_normality_p=stats.normaltest(weekdays_by_week[\"comment_count\"]).pvalue,\n",
    "        weekly_weekend_normality_p=stats.normaltest(weekends_by_week[\"comment_count\"]).pvalue,\n",
    "        weekly_levene_p=stats.levene(weekdays_by_week[\"comment_count\"],weekends_by_week[\"comment_count\"]).pvalue,\n",
    "        weekly_ttest_p=stats.ttest_ind(weekdays_by_week[\"comment_count\"],weekends_by_week[\"comment_count\"]).pvalue,\n",
    "        utest_p=stats.mannwhitneyu(weekdays[\"comment_count\"],weekends[\"comment_count\"]).pvalue,\n",
    "    ))\n",
    "\n",
    "if __name__ == '__main__':\n",
    "    main()"
   ]
  }
 ],
 "metadata": {
  "kernelspec": {
   "display_name": "Python 3",
   "language": "python",
   "name": "python3"
  },
  "language_info": {
   "codemirror_mode": {
    "name": "ipython",
    "version": 3
   },
   "file_extension": ".py",
   "mimetype": "text/x-python",
   "name": "python",
   "nbconvert_exporter": "python",
   "pygments_lexer": "ipython3",
   "version": "3.6.0"
  }
 },
 "nbformat": 4,
 "nbformat_minor": 2
}
