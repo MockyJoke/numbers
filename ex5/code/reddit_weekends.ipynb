{
 "cells": [
  {
   "cell_type": "code",
   "execution_count": 6,
   "metadata": {
    "collapsed": true
   },
   "outputs": [],
   "source": [
    "import sys\n",
    "import pandas as pd\n",
    "import numpy as np\n",
    "import difflib\n",
    "import gzip\n",
    "import matplotlib.pyplot as plt\n",
    "from scipy import stats \n",
    "\n",
    "# filename1 = sys.argv[1]\n",
    "\n",
    "filename1 = \"reddit-counts.json.gz\""
   ]
  },
  {
   "cell_type": "code",
   "execution_count": 7,
   "metadata": {
    "collapsed": true
   },
   "outputs": [],
   "source": [
    "data_file = gzip.open(filename1, 'rt', encoding='utf-8')\n",
    "data = pd.read_json(data_file, lines=True)\n",
    "data['year']=data.apply(lambda x: x['date'].year,axis = 1)\n",
    "data['weekday']=data.apply(lambda x: x['date'].weekday(),axis = 1)"
   ]
  },
  {
   "cell_type": "code",
   "execution_count": 8,
   "metadata": {
    "collapsed": false,
    "scrolled": true
   },
   "outputs": [],
   "source": [
    "data = data[((data['year']==2012)|(data['year']==2013))&(data['subreddit']==\"canada\")]\n",
    "data['isWeekend'] = data.apply(lambda x: False if x['weekday'] < 5 else True, axis = 1)\n",
    "weekends = data[data[\"isWeekend\"]==False]\n",
    "weekdays = data[data[\"isWeekend\"]==True]"
   ]
  },
  {
   "cell_type": "code",
   "execution_count": 9,
   "metadata": {
    "collapsed": false
   },
   "outputs": [
    {
     "data": {
      "text/plain": [
       "LeveneResult(statistic=4.0788968669619399, pvalue=0.043787409892028027)"
      ]
     },
     "execution_count": 9,
     "metadata": {},
     "output_type": "execute_result"
    }
   ],
   "source": [
    "stats.levene(weekdays[\"comment_count\"],weekends[\"comment_count\"])"
   ]
  },
  {
   "cell_type": "code",
   "execution_count": 10,
   "metadata": {
    "collapsed": false,
    "scrolled": true
   },
   "outputs": [
    {
     "data": {
      "text/plain": [
       "NormaltestResult(statistic=12.976880141083813, pvalue=0.0015209196859635404)"
      ]
     },
     "execution_count": 10,
     "metadata": {},
     "output_type": "execute_result"
    }
   ],
   "source": [
    "stats.normaltest(weekends[\"comment_count\"])\n",
    "stats.normaltest(weekdays[\"comment_count\"])"
   ]
  }
 ],
 "metadata": {
  "kernelspec": {
   "display_name": "Python 3",
   "language": "python",
   "name": "python3"
  },
  "language_info": {
   "codemirror_mode": {
    "name": "ipython",
    "version": 3
   },
   "file_extension": ".py",
   "mimetype": "text/x-python",
   "name": "python",
   "nbconvert_exporter": "python",
   "pygments_lexer": "ipython3",
   "version": "3.6.0"
  }
 },
 "nbformat": 4,
 "nbformat_minor": 2
}
