{
 "cells": [
  {
   "cell_type": "code",
   "execution_count": 1,
   "metadata": {
    "collapsed": true
   },
   "outputs": [],
   "source": [
    "import sys\n",
    "import pandas as pd\n",
    "import numpy as np\n",
    "import gzip\n"
   ]
  },
  {
   "cell_type": "code",
   "execution_count": 3,
   "metadata": {
    "collapsed": false
   },
   "outputs": [
    {
     "name": "stdout",
     "output_type": "stream",
     "text": [
      "Summary: data-1.csv\n",
      "X, Mean: 8.717696, standard deviation: 12.094587, Min:-22.635878, Max:35.237055\n",
      "Y, Mean: 12.522874, standard deviation: 6.606681, Min:-2.565088, Max:27.384153\n",
      "Correlation coefficient: 0.950325695438\n",
      "Summary: data-2.csv\n",
      "X, Mean: -0.710787, standard deviation: 11.424031, Min:-33.271113, Max:27.647000\n",
      "Y, Mean: -0.748987, standard deviation: 6.226550, Min:-18.621804, Max:14.147315\n",
      "Correlation coefficient: 0.955153166575\n",
      "Summary: data-3.csv\n",
      "X, Mean: 0.968907, standard deviation: 2.231829, Min:-2.449064, Max:4.518885\n",
      "Y, Mean: 8.508535, standard deviation: 1.147384, Min:6.641734, Max:10.551871\n",
      "Correlation coefficient: 0.981937264676\n",
      "Summary: data-4.csv\n",
      "X, Mean: 49.905086, standard deviation: 28.387554, Min:0.000000, Max:87.376700\n",
      "Y, Mean: 18.553837, standard deviation: 16.475638, Min:0.000000, Max:44.565040\n",
      "Correlation coefficient: -0.0811930673549\n",
      "Summary: data-5.csv\n",
      "X, Mean: 49.909994, standard deviation: 28.378981, Min:4.337892, Max:91.052863\n",
      "Y, Mean: 18.555525, standard deviation: 16.470559, Min:0.055498, Max:49.934197\n",
      "Correlation coefficient: -0.0882359898306\n",
      "Summary: data-6.csv\n",
      "X, Mean: 7.216155, standard deviation: 11.861841, Min:-24.333821, Max:35.402139\n",
      "Y, Mean: 7.602215, standard deviation: 11.705413, Min:-22.956357, Max:36.079874\n",
      "Correlation coefficient: 0.935068566209\n"
     ]
    }
   ],
   "source": [
    "def summary(filename):\n",
    "    df = pd.read_table(filename,sep=\",\")\n",
    "    print(\"Summary: \"+filename)\n",
    "    print(\"X, Mean: {0:f}, standard deviation: {1:f}, Min:{2:f}, Max:{3:f}\".format(np.mean(df['x']),\n",
    "                                                                                   np.std(df['x']),\n",
    "                                                                                   np.min(df['x']),\n",
    "                                                                                   np.max(df['x'])))\n",
    "    print(\"Y, Mean: {0:f}, standard deviation: {1:f}, Min:{2:f}, Max:{3:f}\".format(np.mean(df['y']),\n",
    "                                                                                   np.std(df['y']),\n",
    "                                                                                   np.min(df['y']),\n",
    "                                                                                   np.max(df['y'])))\n",
    "    print(\"Correlation coefficient:\" ,df['x'].corr(df['y']))\n",
    "\n",
    "\n",
    "csv_files=[\"data-1.csv\",\"data-2.csv\",\"data-3.csv\",\"data-4.csv\",\"data-5.csv\",\"data-6.csv\"]\n",
    "for filename in csv_files:\n",
    "    summary(filename)"
   ]
  }
 ],
 "metadata": {
  "kernelspec": {
   "display_name": "Python 3",
   "language": "python",
   "name": "python3"
  },
  "language_info": {
   "codemirror_mode": {
    "name": "ipython",
    "version": 3
   },
   "file_extension": ".py",
   "mimetype": "text/x-python",
   "name": "python",
   "nbconvert_exporter": "python",
   "pygments_lexer": "ipython3",
   "version": "3.6.0"
  }
 },
 "nbformat": 4,
 "nbformat_minor": 2
}
