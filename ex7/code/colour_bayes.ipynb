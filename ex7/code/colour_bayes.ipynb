{
 "cells": [
  {
   "cell_type": "code",
   "execution_count": 1,
   "metadata": {
    "collapsed": false
   },
   "outputs": [],
   "source": [
    "import numpy as np\n",
    "import pandas as pd\n",
    "import matplotlib.pyplot as plt\n",
    "from skimage.color import lab2rgb\n",
    "from sklearn import model_selection\n",
    "from sklearn.naive_bayes import GaussianNB\n",
    "import sys\n",
    "from sklearn.metrics import accuracy_score\n",
    "from skimage import color\n",
    "from sklearn import pipeline\n",
    "from sklearn import preprocessing"
   ]
  },
  {
   "cell_type": "code",
   "execution_count": 4,
   "metadata": {
    "collapsed": true
   },
   "outputs": [],
   "source": [
    "def my_rgb2lab(colors): \n",
    "    old_shape = colors.shape\n",
    "    reshaped = colors.reshape(old_shape[0],1,old_shape[1])\n",
    "    lab = color.rgb2lab(reshaped)\n",
    "    return lab.reshape(old_shape)"
   ]
  },
  {
   "cell_type": "code",
   "execution_count": 6,
   "metadata": {
    "collapsed": false
   },
   "outputs": [
    {
     "name": "stdout",
     "output_type": "stream",
     "text": [
      "0.588815789474\n",
      "0.641447368421\n"
     ]
    }
   ],
   "source": [
    "# representative RGB colours for each label, for nice display\n",
    "COLOUR_RGB = {\n",
    "    'red': (255, 0, 0),\n",
    "    'orange': (255, 114, 0),\n",
    "    'yellow': (255, 255, 0),\n",
    "    'green': (0, 230, 0),\n",
    "    'blue': (0, 0, 255),\n",
    "    'purple': (187, 0, 187),\n",
    "    'brown': (117, 60, 0),\n",
    "    'black': (0, 0, 0),\n",
    "    'grey': (150, 150, 150),\n",
    "    'white': (255, 255, 255),\n",
    "}\n",
    "name_to_rgb = np.vectorize(COLOUR_RGB.get, otypes=[np.uint8, np.uint8, np.uint8])\n",
    "\n",
    "\n",
    "def plot_predictions(model, lum=71, resolution=256):\n",
    "    \"\"\"\n",
    "    Create a slice of LAB colour space with given luminance; predict with the model; plot the results.\n",
    "    \"\"\"\n",
    "    wid = resolution\n",
    "    hei = resolution\n",
    "\n",
    "    # create a hei*wid grid of LAB colour values, with L=lum\n",
    "    ag = np.linspace(-100, 100, wid)\n",
    "    bg = np.linspace(-100, 100, hei)\n",
    "    aa, bb = np.meshgrid(ag, bg)\n",
    "    ll = lum * np.ones((hei, wid))\n",
    "    lab_grid = np.stack([ll, aa, bb], axis=2)\n",
    "\n",
    "    # convert to RGB for consistency with original input\n",
    "    X_grid = lab2rgb(lab_grid)\n",
    "\n",
    "    # predict and convert predictions to colours so we can see what's happening\n",
    "    y_grid = model.predict(X_grid.reshape((wid*hei, 3)))\n",
    "    pixels = np.stack(name_to_rgb(y_grid), axis=1) / 255\n",
    "    pixels = pixels.reshape((hei, wid, 3))\n",
    "\n",
    "    # plot input and predictions\n",
    "    plt.figure(figsize=(10, 5))\n",
    "    plt.subplot(1, 2, 1)\n",
    "    plt.title('Inputs')\n",
    "    plt.imshow(X_grid.reshape((hei, wid, 3)))\n",
    "\n",
    "    plt.subplot(1, 2, 2)\n",
    "    plt.title('Predicted Labels')\n",
    "    plt.imshow(pixels)\n",
    "\n",
    "\n",
    "    \n",
    "def main():\n",
    "    data = pd.read_csv(\"colour-data.csv\")\n",
    "#     data = pd.read_csv(sys.argv[1])\n",
    "    X = data # array with shape (n, 3). Divide by 255\n",
    "    y = data # array with shape (n,) of colour words\n",
    "\n",
    "    # TODO: build model_rgb to predict y from X.\n",
    "    # TODO: print model_rgb's accuracy_score\n",
    "\n",
    "    # TODO: build model_lab to predict y from X by converting to LAB colour first.\n",
    "    # TODO: print model_lab's accuracy_score\n",
    "    \n",
    "    data = pd.read_csv(\"colour-data.csv\")\n",
    "    rgb_columns = [\"R\",\"G\",\"B\"]\n",
    "    data[rgb_columns] = data[rgb_columns].values/255\n",
    "    X_train,X_test,Y_train,Y_test = model_selection.train_test_split(data[rgb_columns].values,data[\"Label\"].values)\n",
    "    model_rgb = GaussianNB()\n",
    "    model_rgb = model_rgb.fit(X_train, Y_train)\n",
    "    Y_predicted = model_rgb.predict(X_test)\n",
    "    print(accuracy_score(Y_test, Y_predicted))\n",
    "    \n",
    "    \n",
    "\n",
    "    model_lab = pipeline.make_pipeline(preprocessing.FunctionTransformer(my_rgb2lab),GaussianNB())\n",
    "    model_lab = model_lab.fit(X_train, Y_train)\n",
    "    Y_predicted_lab = model_lab.predict(X_test)\n",
    "    print(accuracy_score(Y_test, Y_predicted_lab))\n",
    "    \n",
    "    \n",
    "    plt.savefig('predictions_rgb.png')\n",
    "    plot_predictions(model_lab)\n",
    "    plt.savefig('predictions_lab.png')\n",
    "\n",
    "\n",
    "if __name__ == '__main__':\n",
    "    main()"
   ]
  }
 ],
 "metadata": {
  "kernelspec": {
   "display_name": "Python 3",
   "language": "python",
   "name": "python3"
  },
  "language_info": {
   "codemirror_mode": {
    "name": "ipython",
    "version": 3
   },
   "file_extension": ".py",
   "mimetype": "text/x-python",
   "name": "python",
   "nbconvert_exporter": "python",
   "pygments_lexer": "ipython3",
   "version": "3.6.0"
  }
 },
 "nbformat": 4,
 "nbformat_minor": 2
}
