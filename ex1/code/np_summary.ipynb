{
 "cells": [
  {
   "cell_type": "code",
   "execution_count": 1,
   "metadata": {
    "collapsed": true
   },
   "outputs": [],
   "source": [
    "import numpy as np"
   ]
  },
  {
   "cell_type": "code",
   "execution_count": 2,
   "metadata": {
    "collapsed": true
   },
   "outputs": [],
   "source": [
    "data = np.load('monthdata.npz')\n",
    "totals = data['totals']\n",
    "counts = data['counts']"
   ]
  },
  {
   "cell_type": "code",
   "execution_count": 5,
   "metadata": {
    "collapsed": false
   },
   "outputs": [
    {
     "name": "stdout",
     "output_type": "stream",
     "text": [
      "Row with lowest total preciptiation:\n",
      "8\n"
     ]
    }
   ],
   "source": [
    "totals_annual = np.sum(totals, axis=1)\n",
    "min_total_annual = np.argmin(totals_annual)\n",
    "print(\"Row with lowest total preciptiation:\")\n",
    "print(min_total_annual)"
   ]
  },
  {
   "cell_type": "code",
   "execution_count": 6,
   "metadata": {
    "collapsed": false
   },
   "outputs": [
    {
     "name": "stdout",
     "output_type": "stream",
     "text": [
      "Average precipitation in each month:\n",
      "[ 27.77978339  30.42629482  29.41007194  17.96654275  21.34456929\n",
      "  20.69498069  24.97718631  19.85661765  24.06563707  44.68441065\n",
      "  34.61568627  32.36679537]\n"
     ]
    }
   ],
   "source": [
    "prep_average = np.sum(totals, axis=0)/np.sum(counts, axis=0)\n",
    "print(\"Average precipitation in each month:\")\n",
    "print(prep_average)"
   ]
  },
  {
   "cell_type": "code",
   "execution_count": 7,
   "metadata": {
    "collapsed": false
   },
   "outputs": [
    {
     "name": "stdout",
     "output_type": "stream",
     "text": [
      "Average precipitation in each city:\n",
      "[ 47.77859779  14.33333333  39.91232877  41.44505495  23.4099723\n",
      "  23.68144044  17.52197802  36.52222222   6.15426997]\n"
     ]
    }
   ],
   "source": [
    "place_daily_average = np.sum(totals, axis=1)/np.sum(counts, axis=1)\n",
    "print(\"Average precipitation in each city:\")\n",
    "print(place_daily_average)"
   ]
  },
  {
   "cell_type": "code",
   "execution_count": 8,
   "metadata": {
    "collapsed": false
   },
   "outputs": [
    {
     "name": "stdout",
     "output_type": "stream",
     "text": [
      "Quarterly precipitation totals:\n",
      "[[5450 1408 1466 4624]\n",
      " [ 189 1339 3148  527]\n",
      " [3120 3357 3386 4705]\n",
      " [4416 3321 2024 5325]\n",
      " [2024 1498 1721 3208]\n",
      " [1786 1809 2557 2397]\n",
      " [1583 1296 1729 1770]\n",
      " [4602 1340 1250 5956]\n",
      " [ 338  524  922  450]]\n"
     ]
    }
   ],
   "source": [
    "totals_quarterly = np.reshape(totals, (totals.shape[0],4,3))\n",
    "totals_quarterly_sum = np.sum(totals_quarterly, axis=2)\n",
    "print(\"Quarterly precipitation totals:\")\n",
    "print(totals_quarterly_sum)"
   ]
  }
 ],
 "metadata": {
  "kernelspec": {
   "display_name": "Python 3",
   "language": "python",
   "name": "python3"
  },
  "language_info": {
   "codemirror_mode": {
    "name": "ipython",
    "version": 3
   },
   "file_extension": ".py",
   "mimetype": "text/x-python",
   "name": "python",
   "nbconvert_exporter": "python",
   "pygments_lexer": "ipython3",
   "version": "3.5.2"
  }
 },
 "nbformat": 4,
 "nbformat_minor": 2
}
